{
 "cells": [
  {
   "cell_type": "code",
   "execution_count": 1,
   "id": "90717911",
   "metadata": {
    "_cell_guid": "b1076dfc-b9ad-4769-8c92-a6c4dae69d19",
    "_uuid": "8f2839f25d086af736a60e9eeb907d3b93b6e0e5",
    "execution": {
     "iopub.execute_input": "2022-04-04T04:48:52.509311Z",
     "iopub.status.busy": "2022-04-04T04:48:52.508151Z",
     "iopub.status.idle": "2022-04-04T04:48:52.528021Z",
     "shell.execute_reply": "2022-04-04T04:48:52.528588Z",
     "shell.execute_reply.started": "2022-04-04T04:46:01.790644Z"
    },
    "papermill": {
     "duration": 0.053544,
     "end_time": "2022-04-04T04:48:52.528895",
     "exception": false,
     "start_time": "2022-04-04T04:48:52.475351",
     "status": "completed"
    },
    "tags": []
   },
   "outputs": [
    {
     "name": "stdout",
     "output_type": "stream",
     "text": [
      "/kaggle/input/house-prices-advanced-regression-techniques/sample_submission.csv\n",
      "/kaggle/input/house-prices-advanced-regression-techniques/data_description.txt\n",
      "/kaggle/input/house-prices-advanced-regression-techniques/train.csv\n",
      "/kaggle/input/house-prices-advanced-regression-techniques/test.csv\n"
     ]
    }
   ],
   "source": [
    "# This Python 3 environment comes with many helpful analytics libraries installed\n",
    "# It is defined by the kaggle/python Docker image: https://github.com/kaggle/docker-python\n",
    "# For example, here's several helpful packages to load\n",
    "\n",
    "import numpy as np # linear algebra\n",
    "import pandas as pd # data processing, CSV file I/O (e.g. pd.read_csv)\n",
    "\n",
    "# Input data files are available in the read-only \"../input/\" directory\n",
    "# For example, running this (by clicking run or pressing Shift+Enter) will list all files under the input directory\n",
    "\n",
    "import os\n",
    "for dirname, _, filenames in os.walk('/kaggle/input'):\n",
    "    for filename in filenames:\n",
    "        print(os.path.join(dirname, filename))\n",
    "\n",
    "# You can write up to 20GB to the current directory (/kaggle/working/) that gets preserved as output when you create a version using \"Save & Run All\" \n",
    "# You can also write temporary files to /kaggle/temp/, but they won't be saved outside of the current session"
   ]
  },
  {
   "cell_type": "code",
   "execution_count": 2,
   "id": "ea622744",
   "metadata": {
    "execution": {
     "iopub.execute_input": "2022-04-04T04:48:52.585867Z",
     "iopub.status.busy": "2022-04-04T04:48:52.583419Z",
     "iopub.status.idle": "2022-04-04T04:48:53.823657Z",
     "shell.execute_reply": "2022-04-04T04:48:53.823005Z",
     "shell.execute_reply.started": "2022-04-04T04:46:01.824992Z"
    },
    "papermill": {
     "duration": 1.268644,
     "end_time": "2022-04-04T04:48:53.823804",
     "exception": false,
     "start_time": "2022-04-04T04:48:52.555160",
     "status": "completed"
    },
    "tags": []
   },
   "outputs": [],
   "source": [
    "from sklearn.preprocessing import OneHotEncoder, StandardScaler\n",
    "from sklearn.impute import SimpleImputer\n",
    "from sklearn.pipeline import Pipeline\n",
    "from sklearn.compose import ColumnTransformer\n",
    "from sklearn.feature_selection import VarianceThreshold"
   ]
  },
  {
   "cell_type": "code",
   "execution_count": 3,
   "id": "4ca7e1ac",
   "metadata": {
    "execution": {
     "iopub.execute_input": "2022-04-04T04:48:53.877689Z",
     "iopub.status.busy": "2022-04-04T04:48:53.877054Z",
     "iopub.status.idle": "2022-04-04T04:48:53.949751Z",
     "shell.execute_reply": "2022-04-04T04:48:53.949080Z",
     "shell.execute_reply.started": "2022-04-04T04:46:03.159893Z"
    },
    "papermill": {
     "duration": 0.101487,
     "end_time": "2022-04-04T04:48:53.949886",
     "exception": false,
     "start_time": "2022-04-04T04:48:53.848399",
     "status": "completed"
    },
    "tags": []
   },
   "outputs": [],
   "source": [
    "sample_submission = pd.read_csv('/kaggle/input/house-prices-advanced-regression-techniques/sample_submission.csv')\n",
    "train_set = pd.read_csv('/kaggle/input/house-prices-advanced-regression-techniques/train.csv')\n",
    "test_set = pd.read_csv('/kaggle/input/house-prices-advanced-regression-techniques/test.csv')"
   ]
  },
  {
   "cell_type": "code",
   "execution_count": 4,
   "id": "8258d44d",
   "metadata": {
    "execution": {
     "iopub.execute_input": "2022-04-04T04:48:54.004947Z",
     "iopub.status.busy": "2022-04-04T04:48:54.004283Z",
     "iopub.status.idle": "2022-04-04T04:48:54.038334Z",
     "shell.execute_reply": "2022-04-04T04:48:54.038801Z",
     "shell.execute_reply.started": "2022-04-04T04:46:03.234511Z"
    },
    "papermill": {
     "duration": 0.06454,
     "end_time": "2022-04-04T04:48:54.038974",
     "exception": false,
     "start_time": "2022-04-04T04:48:53.974434",
     "status": "completed"
    },
    "tags": []
   },
   "outputs": [
    {
     "data": {
      "text/plain": [
       "4"
      ]
     },
     "execution_count": 4,
     "metadata": {},
     "output_type": "execute_result"
    }
   ],
   "source": [
    "correlated_features = set()\n",
    "correlation_matrix = train_set.corr()\n",
    "for i in range(len(correlation_matrix .columns)):\n",
    "    for j in range(i):\n",
    "        if abs(correlation_matrix.iloc[i, j]) > 0.8:\n",
    "            colname = correlation_matrix.columns[i]\n",
    "            correlated_features.add(colname)\n",
    "len(correlated_features)"
   ]
  },
  {
   "cell_type": "code",
   "execution_count": 5,
   "id": "2f69f72d",
   "metadata": {
    "execution": {
     "iopub.execute_input": "2022-04-04T04:48:54.101141Z",
     "iopub.status.busy": "2022-04-04T04:48:54.100368Z",
     "iopub.status.idle": "2022-04-04T04:48:54.106682Z",
     "shell.execute_reply": "2022-04-04T04:48:54.107153Z",
     "shell.execute_reply.started": "2022-04-04T04:46:03.275497Z"
    },
    "papermill": {
     "duration": 0.043441,
     "end_time": "2022-04-04T04:48:54.107356",
     "exception": false,
     "start_time": "2022-04-04T04:48:54.063915",
     "status": "completed"
    },
    "tags": []
   },
   "outputs": [],
   "source": [
    "train_set.drop(labels=correlated_features, axis=1, inplace=True)\n",
    "test_set.drop(labels=correlated_features, axis=1, inplace=True)"
   ]
  },
  {
   "cell_type": "code",
   "execution_count": 6,
   "id": "718eb271",
   "metadata": {
    "execution": {
     "iopub.execute_input": "2022-04-04T04:48:54.160370Z",
     "iopub.status.busy": "2022-04-04T04:48:54.159738Z",
     "iopub.status.idle": "2022-04-04T04:48:54.171840Z",
     "shell.execute_reply": "2022-04-04T04:48:54.172631Z",
     "shell.execute_reply.started": "2022-04-04T04:46:19.584467Z"
    },
    "papermill": {
     "duration": 0.040381,
     "end_time": "2022-04-04T04:48:54.172874",
     "exception": false,
     "start_time": "2022-04-04T04:48:54.132493",
     "status": "completed"
    },
    "tags": []
   },
   "outputs": [
    {
     "name": "stdout",
     "output_type": "stream",
     "text": [
      "MSSubClass: Identifies the type of dwelling involved in the sale.\t\n",
      "\n",
      "        20\t1-STORY 1946 & NEWER ALL STYLES\n",
      "        30\t1-STORY 1945 & OLDER\n",
      "        40\t1-STORY W/FINISHED ATTIC ALL AGES\n",
      "        45\t1-1/2 STORY - UNFINISHED ALL AGES\n",
      "        50\t1-1/2 STORY FINISHED ALL AGES\n",
      "        60\t2-STORY 1946 & NEWER\n",
      "        70\t2-STORY 1945 & OLDER\n",
      "        75\t2-1/2 STORY ALL AGES\n",
      "        80\tSPLIT OR MULTI-LEVEL\n",
      "        85\tSPLIT FOYER\n",
      "        90\tDUPLEX - ALL STYLES AND AGES\n",
      "       120\t1-STORY PUD (Planned Unit Development) - 1946 & NEWER\n",
      "       150\t1-1/2 STORY PUD - ALL AGES\n",
      "       160\t2-STORY PUD - 1946 & NEWER\n",
      "       180\tPUD - MULTILEVEL - INCL SPLIT LEV/FOYER\n",
      "       190\t2 FAMILY CONVERSION - ALL STYLES AND AGES\n",
      "\n",
      "MSZoning: Identifies the general zoning classification of the sale.\n",
      "\t\t\n",
      "       A\tAgriculture\n",
      "       C\tCommercial\n",
      "       FV\tFloating Village Residential\n",
      "       I\tIndustrial\n",
      "       RH\tResidential High Density\n",
      "       RL\tResidential Low Density\n",
      "       RP\tResidential Low Density Park \n",
      "       RM\tResidential Medium Density\n",
      "\t\n",
      "LotFrontage: Linear feet of street connected to property\n",
      "\n",
      "LotArea: Lot size in square feet\n",
      "\n",
      "Street: Type of road access to property\n",
      "\n",
      "       Grvl\tGravel\t\n",
      "       Pave\tPaved\n",
      "       \t\n",
      "Alley: Type of alley access to property\n",
      "\n",
      "       Grvl\tGravel\n",
      "       Pave\tPaved\n",
      "       NA \tNo alley access\n",
      "\t\t\n",
      "LotShape: General shape of property\n",
      "\n",
      "       Reg\tRegular\t\n",
      "       IR1\tSlightly irregular\n",
      "       IR2\tModerately Irregular\n",
      "       IR3\tIrregular\n",
      "       \n",
      "LandContour: Flatness of the property\n",
      "\n",
      "       Lvl\tNear Flat/Level\t\n",
      "       Bnk\tBanked - Quick and significant rise from street grade to building\n",
      "       HLS\tHillside - Significant slope from side to side\n",
      "       Low\tDepression\n",
      "\t\t\n",
      "Utilities: Type of utilities available\n",
      "\t\t\n",
      "       AllPub\tAll public Utilities (E,G,W,& S)\t\n",
      "       NoSewr\tElectricity, Gas, and Water (Septic Tank)\n",
      "       NoSeWa\tElectricity and Gas Only\n",
      "       ELO\tElectricity only\t\n",
      "\t\n",
      "LotConfig: Lot configuration\n",
      "\n",
      "       Inside\tInside lot\n",
      "       Corner\tCorner lot\n",
      "       CulDSac\tCul-de-sac\n",
      "       FR2\tFrontage on 2 sides of property\n",
      "       FR3\tFrontage on 3 sides of property\n",
      "\t\n",
      "LandSlope: Slope of property\n",
      "\t\t\n",
      "       Gtl\tGentle slope\n",
      "       Mod\tModerate Slope\t\n",
      "       Sev\tSevere Slope\n",
      "\t\n",
      "Neighborhood: Physical locations within Ames city limits\n",
      "\n",
      "       Blmngtn\tBloomington Heights\n",
      "       Blueste\tBluestem\n",
      "       BrDale\tBriardale\n",
      "       BrkSide\tBrookside\n",
      "       ClearCr\tClear Creek\n",
      "       CollgCr\tCollege Creek\n",
      "       Crawfor\tCrawford\n",
      "       Edwards\tEdwards\n",
      "       Gilbert\tGilbert\n",
      "       IDOTRR\tIowa DOT and Rail Road\n",
      "       MeadowV\tMeadow Village\n",
      "       Mitchel\tMitchell\n",
      "       Names\tNorth Ames\n",
      "       NoRidge\tNorthridge\n",
      "       NPkVill\tNorthpark Villa\n",
      "       NridgHt\tNorthridge Heights\n",
      "       NWAmes\tNorthwest Ames\n",
      "       OldTown\tOld Town\n",
      "       SWISU\tSouth & West of Iowa State University\n",
      "       Sawyer\tSawyer\n",
      "       SawyerW\tSawyer West\n",
      "       Somerst\tSomerset\n",
      "       StoneBr\tStone Brook\n",
      "       Timber\tTimberland\n",
      "       Veenker\tVeenker\n",
      "\t\t\t\n",
      "Condition1: Proximity to various conditions\n",
      "\t\n",
      "       Artery\tAdjacent to arterial street\n",
      "       Feedr\tAdjacent to feeder street\t\n",
      "       Norm\tNormal\t\n",
      "       RRNn\tWithin 200' of North-South Railroad\n",
      "       RRAn\tAdjacent to North-South Railroad\n",
      "       PosN\tNear positive off-site feature--park, greenbelt, etc.\n",
      "       PosA\tAdjacent to postive off-site feature\n",
      "       RRNe\tWithin 200' of East-West Railroad\n",
      "       RRAe\tAdjacent to East-West Railroad\n",
      "\t\n",
      "Condition2: Proximity to various conditions (if more than one is present)\n",
      "\t\t\n",
      "       Artery\tAdjacent to arterial street\n",
      "       Feedr\tAdjacent to feeder street\t\n",
      "       Norm\tNormal\t\n",
      "       RRNn\tWithin 200' of North-South Railroad\n",
      "       RRAn\tAdjacent to North-South Railroad\n",
      "       PosN\tNear positive off-site feature--park, greenbelt, etc.\n",
      "       PosA\tAdjacent to postive off-site feature\n",
      "       RRNe\tWithin 200' of East-West Railroad\n",
      "       RRAe\tAdjacent to East-West Railroad\n",
      "\t\n",
      "BldgType: Type of dwelling\n",
      "\t\t\n",
      "       1Fam\tSingle-family Detached\t\n",
      "       2FmCon\tTwo-family Conversion; originally built as one-family dwelling\n",
      "       Duplx\tDuplex\n",
      "       TwnhsE\tTownhouse End Unit\n",
      "       TwnhsI\tTownhouse Inside Unit\n",
      "\t\n",
      "HouseStyle: Style of dwelling\n",
      "\t\n",
      "       1Story\tOne story\n",
      "       1.5Fin\tOne and one-half story: 2nd level finished\n",
      "       1.5Unf\tOne and one-half story: 2nd level unfinished\n",
      "       2Story\tTwo story\n",
      "       2.5Fin\tTwo and one-half story: 2nd level finished\n",
      "       2.5Unf\tTwo and one-half story: 2nd level unfinished\n",
      "       SFoyer\tSplit Foyer\n",
      "       SLvl\tSplit Level\n",
      "\t\n",
      "OverallQual: Rates the overall material and finish of the house\n",
      "\n",
      "       10\tVery Excellent\n",
      "       9\tExcellent\n",
      "       8\tVery Good\n",
      "       7\tGood\n",
      "       6\tAbove Average\n",
      "       5\tAverage\n",
      "       4\tBelow Average\n",
      "       3\tFair\n",
      "       2\tPoor\n",
      "       1\tVery Poor\n",
      "\t\n",
      "OverallCond: Rates the overall condition of the house\n",
      "\n",
      "       10\tVery Excellent\n",
      "       9\tExcellent\n",
      "       8\tVery Good\n",
      "       7\tGood\n",
      "       6\tAbove Average\t\n",
      "       5\tAverage\n",
      "       4\tBelow Average\t\n",
      "       3\tFair\n",
      "       2\tPoor\n",
      "       1\tVery Poor\n",
      "\t\t\n",
      "YearBuilt: Original construction date\n",
      "\n",
      "YearRemodAdd: Remodel date (same as construction date if no remodeling or additions)\n",
      "\n",
      "RoofStyle: Type of roof\n",
      "\n",
      "       Flat\tFlat\n",
      "       Gable\tGable\n",
      "       Gambrel\tGabrel (Barn)\n",
      "       Hip\tHip\n",
      "       Mansard\tMansard\n",
      "       Shed\tShed\n",
      "\t\t\n",
      "RoofMatl: Roof material\n",
      "\n",
      "       ClyTile\tClay or Tile\n",
      "       CompShg\tStandard (Composite) Shingle\n",
      "       Membran\tMembrane\n",
      "       Metal\tMetal\n",
      "       Roll\tRoll\n",
      "       Tar&Grv\tGravel & Tar\n",
      "       WdShake\tWood Shakes\n",
      "       WdShngl\tWood Shingles\n",
      "\t\t\n",
      "Exterior1st: Exterior covering on house\n",
      "\n",
      "       AsbShng\tAsbestos Shingles\n",
      "       AsphShn\tAsphalt Shingles\n",
      "       BrkComm\tBrick Common\n",
      "       BrkFace\tBrick Face\n",
      "       CBlock\tCinder Block\n",
      "       CemntBd\tCement Board\n",
      "       HdBoard\tHard Board\n",
      "       ImStucc\tImitation Stucco\n",
      "       MetalSd\tMetal Siding\n",
      "       Other\tOther\n",
      "       Plywood\tPlywood\n",
      "       PreCast\tPreCast\t\n",
      "       Stone\tStone\n",
      "       Stucco\tStucco\n",
      "       VinylSd\tVinyl Siding\n",
      "       Wd Sdng\tWood Siding\n",
      "       WdShing\tWood Shingles\n",
      "\t\n",
      "Exterior2nd: Exterior covering on house (if more than one material)\n",
      "\n",
      "       AsbShng\tAsbestos Shingles\n",
      "       AsphShn\tAsphalt Shingles\n",
      "       BrkComm\tBrick Common\n",
      "       BrkFace\tBrick Face\n",
      "       CBlock\tCinder Block\n",
      "       CemntBd\tCement Board\n",
      "       HdBoard\tHard Board\n",
      "       ImStucc\tImitation Stucco\n",
      "       MetalSd\tMetal Siding\n",
      "       Other\tOther\n",
      "       Plywood\tPlywood\n",
      "       PreCast\tPreCast\n",
      "       Stone\tStone\n",
      "       Stucco\tStucco\n",
      "       VinylSd\tVinyl Siding\n",
      "       Wd Sdng\tWood Siding\n",
      "       WdShing\tWood Shingles\n",
      "\t\n",
      "MasVnrType: Masonry veneer type\n",
      "\n",
      "       BrkCmn\tBrick Common\n",
      "       BrkFace\tBrick Face\n",
      "       CBlock\tCinder Block\n",
      "       None\tNone\n",
      "       Stone\tStone\n",
      "\t\n",
      "MasVnrArea: Masonry veneer area in square feet\n",
      "\n",
      "ExterQual: Evaluates the quality of the material on the exterior \n",
      "\t\t\n",
      "       Ex\tExcellent\n",
      "       Gd\tGood\n",
      "       TA\tAverage/Typical\n",
      "       Fa\tFair\n",
      "       Po\tPoor\n",
      "\t\t\n",
      "ExterCond: Evaluates the present condition of the material on the exterior\n",
      "\t\t\n",
      "       Ex\tExcellent\n",
      "       Gd\tGood\n",
      "       TA\tAverage/Typical\n",
      "       Fa\tFair\n",
      "       Po\tPoor\n",
      "\t\t\n",
      "Foundation: Type of foundation\n",
      "\t\t\n",
      "       BrkTil\tBrick & Tile\n",
      "       CBlock\tCinder Block\n",
      "       PConc\tPoured Contrete\t\n",
      "       Slab\tSlab\n",
      "       Stone\tStone\n",
      "       Wood\tWood\n",
      "\t\t\n",
      "BsmtQual: Evaluates the height of the basement\n",
      "\n",
      "       Ex\tExcellent (100+ inches)\t\n",
      "       Gd\tGood (90-99 inches)\n",
      "       TA\tTypical (80-89 inches)\n",
      "       Fa\tFair (70-79 inches)\n",
      "       Po\tPoor (<70 inches\n",
      "       NA\tNo Basement\n",
      "\t\t\n",
      "BsmtCond: Evaluates the general condition of the basement\n",
      "\n",
      "       Ex\tExcellent\n",
      "       Gd\tGood\n",
      "       TA\tTypical - slight dampness allowed\n",
      "       Fa\tFair - dampness or some cracking or settling\n",
      "       Po\tPoor - Severe cracking, settling, or wetness\n",
      "       NA\tNo Basement\n",
      "\t\n",
      "BsmtExposure: Refers to walkout or garden level walls\n",
      "\n",
      "       Gd\tGood Exposure\n",
      "       Av\tAverage Exposure (split levels or foyers typically score average or above)\t\n",
      "       Mn\tMimimum Exposure\n",
      "       No\tNo Exposure\n",
      "       NA\tNo Basement\n",
      "\t\n",
      "BsmtFinType1: Rating of basement finished area\n",
      "\n",
      "       GLQ\tGood Living Quarters\n",
      "       ALQ\tAverage Living Quarters\n",
      "       BLQ\tBelow Average Living Quarters\t\n",
      "       Rec\tAverage Rec Room\n",
      "       LwQ\tLow Quality\n",
      "       Unf\tUnfinshed\n",
      "       NA\tNo Basement\n",
      "\t\t\n",
      "BsmtFinSF1: Type 1 finished square feet\n",
      "\n",
      "BsmtFinType2: Rating of basement finished area (if multiple types)\n",
      "\n",
      "       GLQ\tGood Living Quarters\n",
      "       ALQ\tAverage Living Quarters\n",
      "       BLQ\tBelow Average Living Quarters\t\n",
      "       Rec\tAverage Rec Room\n",
      "       LwQ\tLow Quality\n",
      "       Unf\tUnfinshed\n",
      "       NA\tNo Basement\n",
      "\n",
      "BsmtFinSF2: Type 2 finished square feet\n",
      "\n",
      "BsmtUnfSF: Unfinished square feet of basement area\n",
      "\n",
      "TotalBsmtSF: Total square feet of basement area\n",
      "\n",
      "Heating: Type of heating\n",
      "\t\t\n",
      "       Floor\tFloor Furnace\n",
      "       GasA\tGas forced warm air furnace\n",
      "       GasW\tGas hot water or steam heat\n",
      "       Grav\tGravity furnace\t\n",
      "       OthW\tHot water or steam heat other than gas\n",
      "       Wall\tWall furnace\n",
      "\t\t\n",
      "HeatingQC: Heating quality and condition\n",
      "\n",
      "       Ex\tExcellent\n",
      "       Gd\tGood\n",
      "       TA\tAverage/Typical\n",
      "       Fa\tFair\n",
      "       Po\tPoor\n",
      "\t\t\n",
      "CentralAir: Central air conditioning\n",
      "\n",
      "       N\tNo\n",
      "       Y\tYes\n",
      "\t\t\n",
      "Electrical: Electrical system\n",
      "\n",
      "       SBrkr\tStandard Circuit Breakers & Romex\n",
      "       FuseA\tFuse Box over 60 AMP and all Romex wiring (Average)\t\n",
      "       FuseF\t60 AMP Fuse Box and mostly Romex wiring (Fair)\n",
      "       FuseP\t60 AMP Fuse Box and mostly knob & tube wiring (poor)\n",
      "       Mix\tMixed\n",
      "\t\t\n",
      "1stFlrSF: First Floor square feet\n",
      " \n",
      "2ndFlrSF: Second floor square feet\n",
      "\n",
      "LowQualFinSF: Low quality finished square feet (all floors)\n",
      "\n",
      "GrLivArea: Above grade (ground) living area square feet\n",
      "\n",
      "BsmtFullBath: Basement full bathrooms\n",
      "\n",
      "BsmtHalfBath: Basement half bathrooms\n",
      "\n",
      "FullBath: Full bathrooms above grade\n",
      "\n",
      "HalfBath: Half baths above grade\n",
      "\n",
      "Bedroom: Bedrooms above grade (does NOT include basement bedrooms)\n",
      "\n",
      "Kitchen: Kitchens above grade\n",
      "\n",
      "KitchenQual: Kitchen quality\n",
      "\n",
      "       Ex\tExcellent\n",
      "       Gd\tGood\n",
      "       TA\tTypical/Average\n",
      "       Fa\tFair\n",
      "       Po\tPoor\n",
      "       \t\n",
      "TotRmsAbvGrd: Total rooms above grade (does not include bathrooms)\n",
      "\n",
      "Functional: Home functionality (Assume typical unless deductions are warranted)\n",
      "\n",
      "       Typ\tTypical Functionality\n",
      "       Min1\tMinor Deductions 1\n",
      "       Min2\tMinor Deductions 2\n",
      "       Mod\tModerate Deductions\n",
      "       Maj1\tMajor Deductions 1\n",
      "       Maj2\tMajor Deductions 2\n",
      "       Sev\tSeverely Damaged\n",
      "       Sal\tSalvage only\n",
      "\t\t\n",
      "Fireplaces: Number of fireplaces\n",
      "\n",
      "FireplaceQu: Fireplace quality\n",
      "\n",
      "       Ex\tExcellent - Exceptional Masonry Fireplace\n",
      "       Gd\tGood - Masonry Fireplace in main level\n",
      "       TA\tAverage - Prefabricated Fireplace in main living area or Masonry Fireplace in basement\n",
      "       Fa\tFair - Prefabricated Fireplace in basement\n",
      "       Po\tPoor - Ben Franklin Stove\n",
      "       NA\tNo Fireplace\n",
      "\t\t\n",
      "GarageType: Garage location\n",
      "\t\t\n",
      "       2Types\tMore than one type of garage\n",
      "       Attchd\tAttached to home\n",
      "       Basment\tBasement Garage\n",
      "       BuiltIn\tBuilt-In (Garage part of house - typically has room above garage)\n",
      "       CarPort\tCar Port\n",
      "       Detchd\tDetached from home\n",
      "       NA\tNo Garage\n",
      "\t\t\n",
      "GarageYrBlt: Year garage was built\n",
      "\t\t\n",
      "GarageFinish: Interior finish of the garage\n",
      "\n",
      "       Fin\tFinished\n",
      "       RFn\tRough Finished\t\n",
      "       Unf\tUnfinished\n",
      "       NA\tNo Garage\n",
      "\t\t\n",
      "GarageCars: Size of garage in car capacity\n",
      "\n",
      "GarageArea: Size of garage in square feet\n",
      "\n",
      "GarageQual: Garage quality\n",
      "\n",
      "       Ex\tExcellent\n",
      "       Gd\tGood\n",
      "       TA\tTypical/Average\n",
      "       Fa\tFair\n",
      "       Po\tPoor\n",
      "       NA\tNo Garage\n",
      "\t\t\n",
      "GarageCond: Garage condition\n",
      "\n",
      "       Ex\tExcellent\n",
      "       Gd\tGood\n",
      "       TA\tTypical/Average\n",
      "       Fa\tFair\n",
      "       Po\tPoor\n",
      "       NA\tNo Garage\n",
      "\t\t\n",
      "PavedDrive: Paved driveway\n",
      "\n",
      "       Y\tPaved \n",
      "       P\tPartial Pavement\n",
      "       N\tDirt/Gravel\n",
      "\t\t\n",
      "WoodDeckSF: Wood deck area in square feet\n",
      "\n",
      "OpenPorchSF: Open porch area in square feet\n",
      "\n",
      "EnclosedPorch: Enclosed porch area in square feet\n",
      "\n",
      "3SsnPorch: Three season porch area in square feet\n",
      "\n",
      "ScreenPorch: Screen porch area in square feet\n",
      "\n",
      "PoolArea: Pool area in square feet\n",
      "\n",
      "PoolQC: Pool quality\n",
      "\t\t\n",
      "       Ex\tExcellent\n",
      "       Gd\tGood\n",
      "       TA\tAverage/Typical\n",
      "       Fa\tFair\n",
      "       NA\tNo Pool\n",
      "\t\t\n",
      "Fence: Fence quality\n",
      "\t\t\n",
      "       GdPrv\tGood Privacy\n",
      "       MnPrv\tMinimum Privacy\n",
      "       GdWo\tGood Wood\n",
      "       MnWw\tMinimum Wood/Wire\n",
      "       NA\tNo Fence\n",
      "\t\n",
      "MiscFeature: Miscellaneous feature not covered in other categories\n",
      "\t\t\n",
      "       Elev\tElevator\n",
      "       Gar2\t2nd Garage (if not described in garage section)\n",
      "       Othr\tOther\n",
      "       Shed\tShed (over 100 SF)\n",
      "       TenC\tTennis Court\n",
      "       NA\tNone\n",
      "\t\t\n",
      "MiscVal: $Value of miscellaneous feature\n",
      "\n",
      "MoSold: Month Sold (MM)\n",
      "\n",
      "YrSold: Year Sold (YYYY)\n",
      "\n",
      "SaleType: Type of sale\n",
      "\t\t\n",
      "       WD \tWarranty Deed - Conventional\n",
      "       CWD\tWarranty Deed - Cash\n",
      "       VWD\tWarranty Deed - VA Loan\n",
      "       New\tHome just constructed and sold\n",
      "       COD\tCourt Officer Deed/Estate\n",
      "       Con\tContract 15% Down payment regular terms\n",
      "       ConLw\tContract Low Down payment and low interest\n",
      "       ConLI\tContract Low Interest\n",
      "       ConLD\tContract Low Down\n",
      "       Oth\tOther\n",
      "\t\t\n",
      "SaleCondition: Condition of sale\n",
      "\n",
      "       Normal\tNormal Sale\n",
      "       Abnorml\tAbnormal Sale -  trade, foreclosure, short sale\n",
      "       AdjLand\tAdjoining Land Purchase\n",
      "       Alloca\tAllocation - two linked properties with separate deeds, typically condo with a garage unit\t\n",
      "       Family\tSale between family members\n",
      "       Partial\tHome was not completed when last assessed (associated with New Homes)\n",
      "\n"
     ]
    }
   ],
   "source": [
    "with open('/kaggle/input/house-prices-advanced-regression-techniques/data_description.txt', 'r') as f:\n",
    "    print(f.read())"
   ]
  },
  {
   "cell_type": "code",
   "execution_count": 7,
   "id": "803bc0e1",
   "metadata": {
    "execution": {
     "iopub.execute_input": "2022-04-04T04:48:54.227340Z",
     "iopub.status.busy": "2022-04-04T04:48:54.226717Z",
     "iopub.status.idle": "2022-04-04T04:48:54.233464Z",
     "shell.execute_reply": "2022-04-04T04:48:54.232929Z",
     "shell.execute_reply.started": "2022-04-04T04:46:19.765492Z"
    },
    "papermill": {
     "duration": 0.034665,
     "end_time": "2022-04-04T04:48:54.233619",
     "exception": false,
     "start_time": "2022-04-04T04:48:54.198954",
     "status": "completed"
    },
    "tags": []
   },
   "outputs": [],
   "source": [
    "y_train = train_set['SalePrice'].copy()"
   ]
  },
  {
   "cell_type": "code",
   "execution_count": 8,
   "id": "b0709a9b",
   "metadata": {
    "execution": {
     "iopub.execute_input": "2022-04-04T04:48:54.297176Z",
     "iopub.status.busy": "2022-04-04T04:48:54.296404Z",
     "iopub.status.idle": "2022-04-04T04:48:54.322781Z",
     "shell.execute_reply": "2022-04-04T04:48:54.323285Z",
     "shell.execute_reply.started": "2022-04-04T04:46:19.916195Z"
    },
    "papermill": {
     "duration": 0.06447,
     "end_time": "2022-04-04T04:48:54.323478",
     "exception": false,
     "start_time": "2022-04-04T04:48:54.259008",
     "status": "completed"
    },
    "tags": []
   },
   "outputs": [
    {
     "data": {
      "text/html": [
       "<div>\n",
       "<style scoped>\n",
       "    .dataframe tbody tr th:only-of-type {\n",
       "        vertical-align: middle;\n",
       "    }\n",
       "\n",
       "    .dataframe tbody tr th {\n",
       "        vertical-align: top;\n",
       "    }\n",
       "\n",
       "    .dataframe thead th {\n",
       "        text-align: right;\n",
       "    }\n",
       "</style>\n",
       "<table border=\"1\" class=\"dataframe\">\n",
       "  <thead>\n",
       "    <tr style=\"text-align: right;\">\n",
       "      <th></th>\n",
       "      <th>Id</th>\n",
       "      <th>MSSubClass</th>\n",
       "      <th>MSZoning</th>\n",
       "      <th>LotFrontage</th>\n",
       "      <th>LotArea</th>\n",
       "      <th>Street</th>\n",
       "      <th>Alley</th>\n",
       "      <th>LotShape</th>\n",
       "      <th>LandContour</th>\n",
       "      <th>Utilities</th>\n",
       "      <th>...</th>\n",
       "      <th>PoolArea</th>\n",
       "      <th>PoolQC</th>\n",
       "      <th>Fence</th>\n",
       "      <th>MiscFeature</th>\n",
       "      <th>MiscVal</th>\n",
       "      <th>MoSold</th>\n",
       "      <th>YrSold</th>\n",
       "      <th>SaleType</th>\n",
       "      <th>SaleCondition</th>\n",
       "      <th>SalePrice</th>\n",
       "    </tr>\n",
       "  </thead>\n",
       "  <tbody>\n",
       "    <tr>\n",
       "      <th>0</th>\n",
       "      <td>1</td>\n",
       "      <td>60</td>\n",
       "      <td>RL</td>\n",
       "      <td>65.0</td>\n",
       "      <td>8450</td>\n",
       "      <td>Pave</td>\n",
       "      <td>NaN</td>\n",
       "      <td>Reg</td>\n",
       "      <td>Lvl</td>\n",
       "      <td>AllPub</td>\n",
       "      <td>...</td>\n",
       "      <td>0</td>\n",
       "      <td>NaN</td>\n",
       "      <td>NaN</td>\n",
       "      <td>NaN</td>\n",
       "      <td>0</td>\n",
       "      <td>2</td>\n",
       "      <td>2008</td>\n",
       "      <td>WD</td>\n",
       "      <td>Normal</td>\n",
       "      <td>208500</td>\n",
       "    </tr>\n",
       "    <tr>\n",
       "      <th>1</th>\n",
       "      <td>2</td>\n",
       "      <td>20</td>\n",
       "      <td>RL</td>\n",
       "      <td>80.0</td>\n",
       "      <td>9600</td>\n",
       "      <td>Pave</td>\n",
       "      <td>NaN</td>\n",
       "      <td>Reg</td>\n",
       "      <td>Lvl</td>\n",
       "      <td>AllPub</td>\n",
       "      <td>...</td>\n",
       "      <td>0</td>\n",
       "      <td>NaN</td>\n",
       "      <td>NaN</td>\n",
       "      <td>NaN</td>\n",
       "      <td>0</td>\n",
       "      <td>5</td>\n",
       "      <td>2007</td>\n",
       "      <td>WD</td>\n",
       "      <td>Normal</td>\n",
       "      <td>181500</td>\n",
       "    </tr>\n",
       "    <tr>\n",
       "      <th>2</th>\n",
       "      <td>3</td>\n",
       "      <td>60</td>\n",
       "      <td>RL</td>\n",
       "      <td>68.0</td>\n",
       "      <td>11250</td>\n",
       "      <td>Pave</td>\n",
       "      <td>NaN</td>\n",
       "      <td>IR1</td>\n",
       "      <td>Lvl</td>\n",
       "      <td>AllPub</td>\n",
       "      <td>...</td>\n",
       "      <td>0</td>\n",
       "      <td>NaN</td>\n",
       "      <td>NaN</td>\n",
       "      <td>NaN</td>\n",
       "      <td>0</td>\n",
       "      <td>9</td>\n",
       "      <td>2008</td>\n",
       "      <td>WD</td>\n",
       "      <td>Normal</td>\n",
       "      <td>223500</td>\n",
       "    </tr>\n",
       "    <tr>\n",
       "      <th>3</th>\n",
       "      <td>4</td>\n",
       "      <td>70</td>\n",
       "      <td>RL</td>\n",
       "      <td>60.0</td>\n",
       "      <td>9550</td>\n",
       "      <td>Pave</td>\n",
       "      <td>NaN</td>\n",
       "      <td>IR1</td>\n",
       "      <td>Lvl</td>\n",
       "      <td>AllPub</td>\n",
       "      <td>...</td>\n",
       "      <td>0</td>\n",
       "      <td>NaN</td>\n",
       "      <td>NaN</td>\n",
       "      <td>NaN</td>\n",
       "      <td>0</td>\n",
       "      <td>2</td>\n",
       "      <td>2006</td>\n",
       "      <td>WD</td>\n",
       "      <td>Abnorml</td>\n",
       "      <td>140000</td>\n",
       "    </tr>\n",
       "    <tr>\n",
       "      <th>4</th>\n",
       "      <td>5</td>\n",
       "      <td>60</td>\n",
       "      <td>RL</td>\n",
       "      <td>84.0</td>\n",
       "      <td>14260</td>\n",
       "      <td>Pave</td>\n",
       "      <td>NaN</td>\n",
       "      <td>IR1</td>\n",
       "      <td>Lvl</td>\n",
       "      <td>AllPub</td>\n",
       "      <td>...</td>\n",
       "      <td>0</td>\n",
       "      <td>NaN</td>\n",
       "      <td>NaN</td>\n",
       "      <td>NaN</td>\n",
       "      <td>0</td>\n",
       "      <td>12</td>\n",
       "      <td>2008</td>\n",
       "      <td>WD</td>\n",
       "      <td>Normal</td>\n",
       "      <td>250000</td>\n",
       "    </tr>\n",
       "    <tr>\n",
       "      <th>...</th>\n",
       "      <td>...</td>\n",
       "      <td>...</td>\n",
       "      <td>...</td>\n",
       "      <td>...</td>\n",
       "      <td>...</td>\n",
       "      <td>...</td>\n",
       "      <td>...</td>\n",
       "      <td>...</td>\n",
       "      <td>...</td>\n",
       "      <td>...</td>\n",
       "      <td>...</td>\n",
       "      <td>...</td>\n",
       "      <td>...</td>\n",
       "      <td>...</td>\n",
       "      <td>...</td>\n",
       "      <td>...</td>\n",
       "      <td>...</td>\n",
       "      <td>...</td>\n",
       "      <td>...</td>\n",
       "      <td>...</td>\n",
       "      <td>...</td>\n",
       "    </tr>\n",
       "    <tr>\n",
       "      <th>1455</th>\n",
       "      <td>1456</td>\n",
       "      <td>60</td>\n",
       "      <td>RL</td>\n",
       "      <td>62.0</td>\n",
       "      <td>7917</td>\n",
       "      <td>Pave</td>\n",
       "      <td>NaN</td>\n",
       "      <td>Reg</td>\n",
       "      <td>Lvl</td>\n",
       "      <td>AllPub</td>\n",
       "      <td>...</td>\n",
       "      <td>0</td>\n",
       "      <td>NaN</td>\n",
       "      <td>NaN</td>\n",
       "      <td>NaN</td>\n",
       "      <td>0</td>\n",
       "      <td>8</td>\n",
       "      <td>2007</td>\n",
       "      <td>WD</td>\n",
       "      <td>Normal</td>\n",
       "      <td>175000</td>\n",
       "    </tr>\n",
       "    <tr>\n",
       "      <th>1456</th>\n",
       "      <td>1457</td>\n",
       "      <td>20</td>\n",
       "      <td>RL</td>\n",
       "      <td>85.0</td>\n",
       "      <td>13175</td>\n",
       "      <td>Pave</td>\n",
       "      <td>NaN</td>\n",
       "      <td>Reg</td>\n",
       "      <td>Lvl</td>\n",
       "      <td>AllPub</td>\n",
       "      <td>...</td>\n",
       "      <td>0</td>\n",
       "      <td>NaN</td>\n",
       "      <td>MnPrv</td>\n",
       "      <td>NaN</td>\n",
       "      <td>0</td>\n",
       "      <td>2</td>\n",
       "      <td>2010</td>\n",
       "      <td>WD</td>\n",
       "      <td>Normal</td>\n",
       "      <td>210000</td>\n",
       "    </tr>\n",
       "    <tr>\n",
       "      <th>1457</th>\n",
       "      <td>1458</td>\n",
       "      <td>70</td>\n",
       "      <td>RL</td>\n",
       "      <td>66.0</td>\n",
       "      <td>9042</td>\n",
       "      <td>Pave</td>\n",
       "      <td>NaN</td>\n",
       "      <td>Reg</td>\n",
       "      <td>Lvl</td>\n",
       "      <td>AllPub</td>\n",
       "      <td>...</td>\n",
       "      <td>0</td>\n",
       "      <td>NaN</td>\n",
       "      <td>GdPrv</td>\n",
       "      <td>Shed</td>\n",
       "      <td>2500</td>\n",
       "      <td>5</td>\n",
       "      <td>2010</td>\n",
       "      <td>WD</td>\n",
       "      <td>Normal</td>\n",
       "      <td>266500</td>\n",
       "    </tr>\n",
       "    <tr>\n",
       "      <th>1458</th>\n",
       "      <td>1459</td>\n",
       "      <td>20</td>\n",
       "      <td>RL</td>\n",
       "      <td>68.0</td>\n",
       "      <td>9717</td>\n",
       "      <td>Pave</td>\n",
       "      <td>NaN</td>\n",
       "      <td>Reg</td>\n",
       "      <td>Lvl</td>\n",
       "      <td>AllPub</td>\n",
       "      <td>...</td>\n",
       "      <td>0</td>\n",
       "      <td>NaN</td>\n",
       "      <td>NaN</td>\n",
       "      <td>NaN</td>\n",
       "      <td>0</td>\n",
       "      <td>4</td>\n",
       "      <td>2010</td>\n",
       "      <td>WD</td>\n",
       "      <td>Normal</td>\n",
       "      <td>142125</td>\n",
       "    </tr>\n",
       "    <tr>\n",
       "      <th>1459</th>\n",
       "      <td>1460</td>\n",
       "      <td>20</td>\n",
       "      <td>RL</td>\n",
       "      <td>75.0</td>\n",
       "      <td>9937</td>\n",
       "      <td>Pave</td>\n",
       "      <td>NaN</td>\n",
       "      <td>Reg</td>\n",
       "      <td>Lvl</td>\n",
       "      <td>AllPub</td>\n",
       "      <td>...</td>\n",
       "      <td>0</td>\n",
       "      <td>NaN</td>\n",
       "      <td>NaN</td>\n",
       "      <td>NaN</td>\n",
       "      <td>0</td>\n",
       "      <td>6</td>\n",
       "      <td>2008</td>\n",
       "      <td>WD</td>\n",
       "      <td>Normal</td>\n",
       "      <td>147500</td>\n",
       "    </tr>\n",
       "  </tbody>\n",
       "</table>\n",
       "<p>1460 rows × 77 columns</p>\n",
       "</div>"
      ],
      "text/plain": [
       "        Id  MSSubClass MSZoning  LotFrontage  LotArea Street Alley LotShape  \\\n",
       "0        1          60       RL         65.0     8450   Pave   NaN      Reg   \n",
       "1        2          20       RL         80.0     9600   Pave   NaN      Reg   \n",
       "2        3          60       RL         68.0    11250   Pave   NaN      IR1   \n",
       "3        4          70       RL         60.0     9550   Pave   NaN      IR1   \n",
       "4        5          60       RL         84.0    14260   Pave   NaN      IR1   \n",
       "...    ...         ...      ...          ...      ...    ...   ...      ...   \n",
       "1455  1456          60       RL         62.0     7917   Pave   NaN      Reg   \n",
       "1456  1457          20       RL         85.0    13175   Pave   NaN      Reg   \n",
       "1457  1458          70       RL         66.0     9042   Pave   NaN      Reg   \n",
       "1458  1459          20       RL         68.0     9717   Pave   NaN      Reg   \n",
       "1459  1460          20       RL         75.0     9937   Pave   NaN      Reg   \n",
       "\n",
       "     LandContour Utilities  ... PoolArea PoolQC  Fence MiscFeature MiscVal  \\\n",
       "0            Lvl    AllPub  ...        0    NaN    NaN         NaN       0   \n",
       "1            Lvl    AllPub  ...        0    NaN    NaN         NaN       0   \n",
       "2            Lvl    AllPub  ...        0    NaN    NaN         NaN       0   \n",
       "3            Lvl    AllPub  ...        0    NaN    NaN         NaN       0   \n",
       "4            Lvl    AllPub  ...        0    NaN    NaN         NaN       0   \n",
       "...          ...       ...  ...      ...    ...    ...         ...     ...   \n",
       "1455         Lvl    AllPub  ...        0    NaN    NaN         NaN       0   \n",
       "1456         Lvl    AllPub  ...        0    NaN  MnPrv         NaN       0   \n",
       "1457         Lvl    AllPub  ...        0    NaN  GdPrv        Shed    2500   \n",
       "1458         Lvl    AllPub  ...        0    NaN    NaN         NaN       0   \n",
       "1459         Lvl    AllPub  ...        0    NaN    NaN         NaN       0   \n",
       "\n",
       "     MoSold YrSold  SaleType  SaleCondition  SalePrice  \n",
       "0         2   2008        WD         Normal     208500  \n",
       "1         5   2007        WD         Normal     181500  \n",
       "2         9   2008        WD         Normal     223500  \n",
       "3         2   2006        WD        Abnorml     140000  \n",
       "4        12   2008        WD         Normal     250000  \n",
       "...     ...    ...       ...            ...        ...  \n",
       "1455      8   2007        WD         Normal     175000  \n",
       "1456      2   2010        WD         Normal     210000  \n",
       "1457      5   2010        WD         Normal     266500  \n",
       "1458      4   2010        WD         Normal     142125  \n",
       "1459      6   2008        WD         Normal     147500  \n",
       "\n",
       "[1460 rows x 77 columns]"
      ]
     },
     "execution_count": 8,
     "metadata": {},
     "output_type": "execute_result"
    }
   ],
   "source": [
    "train_set"
   ]
  },
  {
   "cell_type": "code",
   "execution_count": 9,
   "id": "788c246b",
   "metadata": {
    "execution": {
     "iopub.execute_input": "2022-04-04T04:48:54.379830Z",
     "iopub.status.busy": "2022-04-04T04:48:54.378859Z",
     "iopub.status.idle": "2022-04-04T04:48:54.385022Z",
     "shell.execute_reply": "2022-04-04T04:48:54.385561Z",
     "shell.execute_reply.started": "2022-04-04T04:46:20.028785Z"
    },
    "papermill": {
     "duration": 0.03602,
     "end_time": "2022-04-04T04:48:54.385729",
     "exception": false,
     "start_time": "2022-04-04T04:48:54.349709",
     "status": "completed"
    },
    "tags": []
   },
   "outputs": [],
   "source": [
    "train_set.drop(['SalePrice'], axis=1, inplace=True)"
   ]
  },
  {
   "cell_type": "code",
   "execution_count": 10,
   "id": "5921f969",
   "metadata": {
    "execution": {
     "iopub.execute_input": "2022-04-04T04:48:54.441663Z",
     "iopub.status.busy": "2022-04-04T04:48:54.440677Z",
     "iopub.status.idle": "2022-04-04T04:48:54.470603Z",
     "shell.execute_reply": "2022-04-04T04:48:54.471244Z",
     "shell.execute_reply.started": "2022-04-04T04:46:20.191235Z"
    },
    "papermill": {
     "duration": 0.05968,
     "end_time": "2022-04-04T04:48:54.471429",
     "exception": false,
     "start_time": "2022-04-04T04:48:54.411749",
     "status": "completed"
    },
    "tags": []
   },
   "outputs": [
    {
     "name": "stdout",
     "output_type": "stream",
     "text": [
      "<class 'pandas.core.frame.DataFrame'>\n",
      "RangeIndex: 1460 entries, 0 to 1459\n",
      "Data columns (total 76 columns):\n",
      " #   Column         Non-Null Count  Dtype  \n",
      "---  ------         --------------  -----  \n",
      " 0   Id             1460 non-null   int64  \n",
      " 1   MSSubClass     1460 non-null   int64  \n",
      " 2   MSZoning       1460 non-null   object \n",
      " 3   LotFrontage    1201 non-null   float64\n",
      " 4   LotArea        1460 non-null   int64  \n",
      " 5   Street         1460 non-null   object \n",
      " 6   Alley          91 non-null     object \n",
      " 7   LotShape       1460 non-null   object \n",
      " 8   LandContour    1460 non-null   object \n",
      " 9   Utilities      1460 non-null   object \n",
      " 10  LotConfig      1460 non-null   object \n",
      " 11  LandSlope      1460 non-null   object \n",
      " 12  Neighborhood   1460 non-null   object \n",
      " 13  Condition1     1460 non-null   object \n",
      " 14  Condition2     1460 non-null   object \n",
      " 15  BldgType       1460 non-null   object \n",
      " 16  HouseStyle     1460 non-null   object \n",
      " 17  OverallQual    1460 non-null   int64  \n",
      " 18  OverallCond    1460 non-null   int64  \n",
      " 19  YearBuilt      1460 non-null   int64  \n",
      " 20  YearRemodAdd   1460 non-null   int64  \n",
      " 21  RoofStyle      1460 non-null   object \n",
      " 22  RoofMatl       1460 non-null   object \n",
      " 23  Exterior1st    1460 non-null   object \n",
      " 24  Exterior2nd    1460 non-null   object \n",
      " 25  MasVnrType     1452 non-null   object \n",
      " 26  MasVnrArea     1452 non-null   float64\n",
      " 27  ExterQual      1460 non-null   object \n",
      " 28  ExterCond      1460 non-null   object \n",
      " 29  Foundation     1460 non-null   object \n",
      " 30  BsmtQual       1423 non-null   object \n",
      " 31  BsmtCond       1423 non-null   object \n",
      " 32  BsmtExposure   1422 non-null   object \n",
      " 33  BsmtFinType1   1423 non-null   object \n",
      " 34  BsmtFinSF1     1460 non-null   int64  \n",
      " 35  BsmtFinType2   1422 non-null   object \n",
      " 36  BsmtFinSF2     1460 non-null   int64  \n",
      " 37  BsmtUnfSF      1460 non-null   int64  \n",
      " 38  TotalBsmtSF    1460 non-null   int64  \n",
      " 39  Heating        1460 non-null   object \n",
      " 40  HeatingQC      1460 non-null   object \n",
      " 41  CentralAir     1460 non-null   object \n",
      " 42  Electrical     1459 non-null   object \n",
      " 43  2ndFlrSF       1460 non-null   int64  \n",
      " 44  LowQualFinSF   1460 non-null   int64  \n",
      " 45  GrLivArea      1460 non-null   int64  \n",
      " 46  BsmtFullBath   1460 non-null   int64  \n",
      " 47  BsmtHalfBath   1460 non-null   int64  \n",
      " 48  FullBath       1460 non-null   int64  \n",
      " 49  HalfBath       1460 non-null   int64  \n",
      " 50  BedroomAbvGr   1460 non-null   int64  \n",
      " 51  KitchenAbvGr   1460 non-null   int64  \n",
      " 52  KitchenQual    1460 non-null   object \n",
      " 53  Functional     1460 non-null   object \n",
      " 54  Fireplaces     1460 non-null   int64  \n",
      " 55  FireplaceQu    770 non-null    object \n",
      " 56  GarageType     1379 non-null   object \n",
      " 57  GarageFinish   1379 non-null   object \n",
      " 58  GarageCars     1460 non-null   int64  \n",
      " 59  GarageQual     1379 non-null   object \n",
      " 60  GarageCond     1379 non-null   object \n",
      " 61  PavedDrive     1460 non-null   object \n",
      " 62  WoodDeckSF     1460 non-null   int64  \n",
      " 63  OpenPorchSF    1460 non-null   int64  \n",
      " 64  EnclosedPorch  1460 non-null   int64  \n",
      " 65  3SsnPorch      1460 non-null   int64  \n",
      " 66  ScreenPorch    1460 non-null   int64  \n",
      " 67  PoolArea       1460 non-null   int64  \n",
      " 68  PoolQC         7 non-null      object \n",
      " 69  Fence          281 non-null    object \n",
      " 70  MiscFeature    54 non-null     object \n",
      " 71  MiscVal        1460 non-null   int64  \n",
      " 72  MoSold         1460 non-null   int64  \n",
      " 73  YrSold         1460 non-null   int64  \n",
      " 74  SaleType       1460 non-null   object \n",
      " 75  SaleCondition  1460 non-null   object \n",
      "dtypes: float64(2), int64(31), object(43)\n",
      "memory usage: 867.0+ KB\n"
     ]
    }
   ],
   "source": [
    "train_set.info()"
   ]
  },
  {
   "cell_type": "code",
   "execution_count": 11,
   "id": "c6f4ffba",
   "metadata": {
    "execution": {
     "iopub.execute_input": "2022-04-04T04:48:54.555128Z",
     "iopub.status.busy": "2022-04-04T04:48:54.548194Z",
     "iopub.status.idle": "2022-04-04T04:48:54.610788Z",
     "shell.execute_reply": "2022-04-04T04:48:54.611408Z",
     "shell.execute_reply.started": "2022-04-04T04:46:20.335346Z"
    },
    "papermill": {
     "duration": 0.105137,
     "end_time": "2022-04-04T04:48:54.611586",
     "exception": false,
     "start_time": "2022-04-04T04:48:54.506449",
     "status": "completed"
    },
    "tags": []
   },
   "outputs": [],
   "source": [
    "num_pipeline = Pipeline([\n",
    "    ('imputer', SimpleImputer(strategy='median')),\n",
    "    ('std_scaler', StandardScaler())\n",
    "])\n",
    "num_attribs = list(train_set.select_dtypes(exclude=['object']))\n",
    "cat_attribs = list(train_set.select_dtypes(include=['object']))\n",
    "full_pipeline = ColumnTransformer([\n",
    "    ('num', num_pipeline, num_attribs),\n",
    "    ('cat', OneHotEncoder(handle_unknown='ignore'), cat_attribs)\n",
    "])\n",
    "housing_prepared = full_pipeline.fit_transform(train_set)"
   ]
  },
  {
   "cell_type": "code",
   "execution_count": 12,
   "id": "a2afc57e",
   "metadata": {
    "execution": {
     "iopub.execute_input": "2022-04-04T04:48:54.669442Z",
     "iopub.status.busy": "2022-04-04T04:48:54.668736Z",
     "iopub.status.idle": "2022-04-04T04:48:54.672685Z",
     "shell.execute_reply": "2022-04-04T04:48:54.673247Z",
     "shell.execute_reply.started": "2022-04-04T04:46:20.449074Z"
    },
    "papermill": {
     "duration": 0.034071,
     "end_time": "2022-04-04T04:48:54.673417",
     "exception": false,
     "start_time": "2022-04-04T04:48:54.639346",
     "status": "completed"
    },
    "tags": []
   },
   "outputs": [
    {
     "data": {
      "text/plain": [
       "scipy.sparse.csr.csr_matrix"
      ]
     },
     "execution_count": 12,
     "metadata": {},
     "output_type": "execute_result"
    }
   ],
   "source": [
    "type(housing_prepared)"
   ]
  },
  {
   "cell_type": "code",
   "execution_count": 13,
   "id": "40e4d997",
   "metadata": {
    "execution": {
     "iopub.execute_input": "2022-04-04T04:48:54.732254Z",
     "iopub.status.busy": "2022-04-04T04:48:54.731603Z",
     "iopub.status.idle": "2022-04-04T04:48:55.055061Z",
     "shell.execute_reply": "2022-04-04T04:48:55.055538Z",
     "shell.execute_reply.started": "2022-04-04T04:46:20.586051Z"
    },
    "papermill": {
     "duration": 0.354343,
     "end_time": "2022-04-04T04:48:55.055702",
     "exception": false,
     "start_time": "2022-04-04T04:48:54.701359",
     "status": "completed"
    },
    "tags": []
   },
   "outputs": [
    {
     "data": {
      "text/plain": [
       "array([206474.5265018 , 205181.43192302, 206032.23047329, 166649.02098293,\n",
       "       287472.43184683])"
      ]
     },
     "execution_count": 13,
     "metadata": {},
     "output_type": "execute_result"
    }
   ],
   "source": [
    "#Linear Regression\n",
    "from sklearn.linear_model import LinearRegression\n",
    "lin_reg = LinearRegression()\n",
    "lin_reg.fit(housing_prepared, y_train)\n",
    "some_data = train_set.iloc[:5]\n",
    "some_labels = y_train.iloc[:5]\n",
    "some_data_prepared = full_pipeline.transform(some_data)\n",
    "lin_reg.predict(some_data_prepared)"
   ]
  },
  {
   "cell_type": "code",
   "execution_count": 14,
   "id": "ad79a1bd",
   "metadata": {
    "execution": {
     "iopub.execute_input": "2022-04-04T04:48:55.114881Z",
     "iopub.status.busy": "2022-04-04T04:48:55.114198Z",
     "iopub.status.idle": "2022-04-04T04:48:55.120612Z",
     "shell.execute_reply": "2022-04-04T04:48:55.121201Z",
     "shell.execute_reply.started": "2022-04-04T04:46:20.909069Z"
    },
    "papermill": {
     "duration": 0.037109,
     "end_time": "2022-04-04T04:48:55.121377",
     "exception": false,
     "start_time": "2022-04-04T04:48:55.084268",
     "status": "completed"
    },
    "tags": []
   },
   "outputs": [
    {
     "data": {
      "text/plain": [
       "20583.468441241737"
      ]
     },
     "execution_count": 14,
     "metadata": {},
     "output_type": "execute_result"
    }
   ],
   "source": [
    "from sklearn.metrics import mean_squared_error\n",
    "housing_predictions = lin_reg.predict(housing_prepared)\n",
    "lin_mse = mean_squared_error(y_train, housing_predictions)\n",
    "lin_rmse = np.sqrt(lin_mse)\n",
    "lin_rmse"
   ]
  },
  {
   "cell_type": "code",
   "execution_count": 15,
   "id": "9b0bae51",
   "metadata": {
    "execution": {
     "iopub.execute_input": "2022-04-04T04:48:55.179500Z",
     "iopub.status.busy": "2022-04-04T04:48:55.178860Z",
     "iopub.status.idle": "2022-04-04T04:48:55.405019Z",
     "shell.execute_reply": "2022-04-04T04:48:55.405489Z",
     "shell.execute_reply.started": "2022-04-04T04:46:20.918405Z"
    },
    "papermill": {
     "duration": 0.256997,
     "end_time": "2022-04-04T04:48:55.405664",
     "exception": false,
     "start_time": "2022-04-04T04:48:55.148667",
     "status": "completed"
    },
    "tags": []
   },
   "outputs": [
    {
     "data": {
      "text/plain": [
       "20583.468441241737"
      ]
     },
     "execution_count": 15,
     "metadata": {},
     "output_type": "execute_result"
    }
   ],
   "source": [
    "from sklearn.tree import DecisionTreeRegressor\n",
    "tree_reg = DecisionTreeRegressor()\n",
    "tree_reg.fit(housing_prepared, y_train)\n",
    "tree_predictions = tree_reg.predict(housing_prepared)\n",
    "tree_mse = mean_squared_error(y_train, housing_predictions)\n",
    "tree_rsme = np.sqrt(tree_mse)\n",
    "tree_rsme"
   ]
  },
  {
   "cell_type": "code",
   "execution_count": 16,
   "id": "5ecf101d",
   "metadata": {
    "execution": {
     "iopub.execute_input": "2022-04-04T04:48:55.467508Z",
     "iopub.status.busy": "2022-04-04T04:48:55.466800Z",
     "iopub.status.idle": "2022-04-04T04:48:55.790997Z",
     "shell.execute_reply": "2022-04-04T04:48:55.790368Z",
     "shell.execute_reply.started": "2022-04-04T04:46:21.149436Z"
    },
    "papermill": {
     "duration": 0.357303,
     "end_time": "2022-04-04T04:48:55.791156",
     "exception": false,
     "start_time": "2022-04-04T04:48:55.433853",
     "status": "completed"
    },
    "tags": []
   },
   "outputs": [
    {
     "data": {
      "text/plain": [
       "array([35548.58786294, 40578.54963589, 47442.382296  ])"
      ]
     },
     "execution_count": 16,
     "metadata": {},
     "output_type": "execute_result"
    }
   ],
   "source": [
    "from sklearn.model_selection import cross_val_score\n",
    "scores = cross_val_score(tree_reg, housing_prepared, y_train, scoring='neg_mean_squared_error', cv=3)\n",
    "tree_rmse_scores = np.sqrt(-scores)\n",
    "tree_rmse_scores"
   ]
  },
  {
   "cell_type": "code",
   "execution_count": 17,
   "id": "f5b07f32",
   "metadata": {
    "execution": {
     "iopub.execute_input": "2022-04-04T04:48:55.853821Z",
     "iopub.status.busy": "2022-04-04T04:48:55.853176Z",
     "iopub.status.idle": "2022-04-04T04:48:55.855839Z",
     "shell.execute_reply": "2022-04-04T04:48:55.856539Z",
     "shell.execute_reply.started": "2022-04-04T04:46:21.476171Z"
    },
    "papermill": {
     "duration": 0.03718,
     "end_time": "2022-04-04T04:48:55.856774",
     "exception": false,
     "start_time": "2022-04-04T04:48:55.819594",
     "status": "completed"
    },
    "tags": []
   },
   "outputs": [
    {
     "name": "stdout",
     "output_type": "stream",
     "text": [
      "Mean:  41189.83993161022\n",
      "Standard deviation: 4874.822620580863\n"
     ]
    }
   ],
   "source": [
    "print(\"Mean: \", tree_rmse_scores.mean())\n",
    "print(\"Standard deviation:\", tree_rmse_scores.std())"
   ]
  },
  {
   "cell_type": "code",
   "execution_count": 18,
   "id": "707fb093",
   "metadata": {
    "execution": {
     "iopub.execute_input": "2022-04-04T04:48:55.921647Z",
     "iopub.status.busy": "2022-04-04T04:48:55.920889Z",
     "iopub.status.idle": "2022-04-04T04:48:56.571076Z",
     "shell.execute_reply": "2022-04-04T04:48:56.571611Z",
     "shell.execute_reply.started": "2022-04-04T04:46:21.483541Z"
    },
    "papermill": {
     "duration": 0.684143,
     "end_time": "2022-04-04T04:48:56.571786",
     "exception": false,
     "start_time": "2022-04-04T04:48:55.887643",
     "status": "completed"
    },
    "tags": []
   },
   "outputs": [
    {
     "data": {
      "text/plain": [
       "array([28091.6568944 , 33687.97428052, 40761.64964785])"
      ]
     },
     "execution_count": 18,
     "metadata": {},
     "output_type": "execute_result"
    }
   ],
   "source": [
    "lin_scores = cross_val_score(lin_reg, housing_prepared, y_train, scoring='neg_mean_squared_error', cv=3)\n",
    "lin_rmse_scores = np.sqrt(-lin_scores)\n",
    "lin_rmse_scores"
   ]
  },
  {
   "cell_type": "code",
   "execution_count": 19,
   "id": "cc777809",
   "metadata": {
    "execution": {
     "iopub.execute_input": "2022-04-04T04:48:56.631713Z",
     "iopub.status.busy": "2022-04-04T04:48:56.630775Z",
     "iopub.status.idle": "2022-04-04T04:48:56.637266Z",
     "shell.execute_reply": "2022-04-04T04:48:56.636511Z",
     "shell.execute_reply.started": "2022-04-04T04:46:22.131454Z"
    },
    "papermill": {
     "duration": 0.037544,
     "end_time": "2022-04-04T04:48:56.637495",
     "exception": false,
     "start_time": "2022-04-04T04:48:56.599951",
     "status": "completed"
    },
    "tags": []
   },
   "outputs": [
    {
     "name": "stdout",
     "output_type": "stream",
     "text": [
      "Mean:  34180.42694092387\n",
      "Standard deviation: 5184.210728109532\n"
     ]
    }
   ],
   "source": [
    "print(\"Mean: \", lin_rmse_scores.mean())\n",
    "print(\"Standard deviation:\", lin_rmse_scores.std())"
   ]
  },
  {
   "cell_type": "code",
   "execution_count": 20,
   "id": "da2753de",
   "metadata": {
    "execution": {
     "iopub.execute_input": "2022-04-04T04:48:56.700362Z",
     "iopub.status.busy": "2022-04-04T04:48:56.699377Z",
     "iopub.status.idle": "2022-04-04T04:49:09.348333Z",
     "shell.execute_reply": "2022-04-04T04:49:09.348928Z",
     "shell.execute_reply.started": "2022-04-04T04:46:22.138331Z"
    },
    "papermill": {
     "duration": 12.681488,
     "end_time": "2022-04-04T04:49:09.349297",
     "exception": false,
     "start_time": "2022-04-04T04:48:56.667809",
     "status": "completed"
    },
    "tags": []
   },
   "outputs": [
    {
     "data": {
      "text/plain": [
       "20583.468441241737"
      ]
     },
     "execution_count": 20,
     "metadata": {},
     "output_type": "execute_result"
    }
   ],
   "source": [
    "from sklearn.ensemble import RandomForestRegressor\n",
    "forest_reg = RandomForestRegressor()\n",
    "forest_reg.fit(housing_prepared, y_train)\n",
    "forest_predictions = forest_reg.predict(housing_prepared)\n",
    "forest_mse = mean_squared_error(y_train, housing_predictions)\n",
    "forest_rsme = np.sqrt(forest_mse)\n",
    "forest_rsme"
   ]
  },
  {
   "cell_type": "code",
   "execution_count": 21,
   "id": "246e002a",
   "metadata": {
    "execution": {
     "iopub.execute_input": "2022-04-04T04:49:09.414623Z",
     "iopub.status.busy": "2022-04-04T04:49:09.413621Z",
     "iopub.status.idle": "2022-04-04T04:49:30.432172Z",
     "shell.execute_reply": "2022-04-04T04:49:30.432646Z",
     "shell.execute_reply.started": "2022-04-04T04:46:34.832231Z"
    },
    "papermill": {
     "duration": 21.052585,
     "end_time": "2022-04-04T04:49:30.432839",
     "exception": false,
     "start_time": "2022-04-04T04:49:09.380254",
     "status": "completed"
    },
    "tags": []
   },
   "outputs": [
    {
     "data": {
      "text/plain": [
       "array([26579.07139545, 31473.4475588 , 31930.08704489])"
      ]
     },
     "execution_count": 21,
     "metadata": {},
     "output_type": "execute_result"
    }
   ],
   "source": [
    "forest_scores = cross_val_score(forest_reg, housing_prepared, y_train, scoring='neg_mean_squared_error', cv=3)\n",
    "forest_rmse_scores = np.sqrt(-forest_scores)\n",
    "forest_rmse_scores"
   ]
  },
  {
   "cell_type": "code",
   "execution_count": 22,
   "id": "2021bd55",
   "metadata": {
    "execution": {
     "iopub.execute_input": "2022-04-04T04:49:30.498715Z",
     "iopub.status.busy": "2022-04-04T04:49:30.497728Z",
     "iopub.status.idle": "2022-04-04T04:49:30.503661Z",
     "shell.execute_reply": "2022-04-04T04:49:30.504150Z",
     "shell.execute_reply.started": "2022-04-04T04:46:55.568384Z"
    },
    "papermill": {
     "duration": 0.041484,
     "end_time": "2022-04-04T04:49:30.504346",
     "exception": false,
     "start_time": "2022-04-04T04:49:30.462862",
     "status": "completed"
    },
    "tags": []
   },
   "outputs": [
    {
     "name": "stdout",
     "output_type": "stream",
     "text": [
      "Mean:  29994.20199971458\n",
      "Standard deviation: 2422.0470251703414\n"
     ]
    }
   ],
   "source": [
    "print(\"Mean: \", forest_rmse_scores.mean())\n",
    "print(\"Standard deviation:\", forest_rmse_scores.std())"
   ]
  },
  {
   "cell_type": "code",
   "execution_count": 23,
   "id": "83fd431a",
   "metadata": {
    "execution": {
     "iopub.execute_input": "2022-04-04T04:49:30.568401Z",
     "iopub.status.busy": "2022-04-04T04:49:30.567720Z",
     "iopub.status.idle": "2022-04-04T04:49:38.947019Z",
     "shell.execute_reply": "2022-04-04T04:49:38.946466Z",
     "shell.execute_reply.started": "2022-04-04T04:46:55.575552Z"
    },
    "papermill": {
     "duration": 8.41209,
     "end_time": "2022-04-04T04:49:38.947191",
     "exception": false,
     "start_time": "2022-04-04T04:49:30.535101",
     "status": "completed"
    },
    "tags": []
   },
   "outputs": [
    {
     "data": {
      "text/plain": [
       "GridSearchCV(cv=5, estimator=RandomForestRegressor(),\n",
       "             param_grid=[{'max_features': [2, 4, 6, 8],\n",
       "                          'n_estimators': [3, 10, 30]},\n",
       "                         {'bootstrap': [False], 'max_features': [2, 3, 4],\n",
       "                          'n_estimators': [3, 10]}],\n",
       "             return_train_score=True, scoring='neg_mean_squared_error')"
      ]
     },
     "execution_count": 23,
     "metadata": {},
     "output_type": "execute_result"
    }
   ],
   "source": [
    "from sklearn.model_selection import GridSearchCV\n",
    "param_grid = [\n",
    "    {'n_estimators':[3,10,30], 'max_features':[2,4,6,8]},\n",
    "    {'bootstrap':[False], 'n_estimators':[3,10], 'max_features':[2,3,4]}\n",
    "]\n",
    "forest_reg = RandomForestRegressor()\n",
    "grid_search = GridSearchCV(forest_reg, param_grid, cv=5, scoring = 'neg_mean_squared_error', return_train_score=True)\n",
    "grid_search.fit(housing_prepared, y_train)"
   ]
  },
  {
   "cell_type": "code",
   "execution_count": 24,
   "id": "3936b6d9",
   "metadata": {
    "execution": {
     "iopub.execute_input": "2022-04-04T04:49:39.011913Z",
     "iopub.status.busy": "2022-04-04T04:49:39.010972Z",
     "iopub.status.idle": "2022-04-04T04:49:39.016322Z",
     "shell.execute_reply": "2022-04-04T04:49:39.016827Z",
     "shell.execute_reply.started": "2022-04-04T04:47:03.630036Z"
    },
    "papermill": {
     "duration": 0.039274,
     "end_time": "2022-04-04T04:49:39.017002",
     "exception": false,
     "start_time": "2022-04-04T04:49:38.977728",
     "status": "completed"
    },
    "tags": []
   },
   "outputs": [
    {
     "data": {
      "text/plain": [
       "RandomForestRegressor(max_features=8, n_estimators=30)"
      ]
     },
     "execution_count": 24,
     "metadata": {},
     "output_type": "execute_result"
    }
   ],
   "source": [
    "grid_search.best_estimator_"
   ]
  },
  {
   "cell_type": "code",
   "execution_count": 25,
   "id": "70ad1020",
   "metadata": {
    "execution": {
     "iopub.execute_input": "2022-04-04T04:49:39.082614Z",
     "iopub.status.busy": "2022-04-04T04:49:39.081926Z",
     "iopub.status.idle": "2022-04-04T04:49:39.090339Z",
     "shell.execute_reply": "2022-04-04T04:49:39.090768Z",
     "shell.execute_reply.started": "2022-04-04T04:47:03.639355Z"
    },
    "papermill": {
     "duration": 0.043536,
     "end_time": "2022-04-04T04:49:39.090954",
     "exception": false,
     "start_time": "2022-04-04T04:49:39.047418",
     "status": "completed"
    },
    "tags": []
   },
   "outputs": [
    {
     "name": "stdout",
     "output_type": "stream",
     "text": [
      "46020.886054982606 {'max_features': 2, 'n_estimators': 3}\n",
      "39416.041893127316 {'max_features': 2, 'n_estimators': 10}\n",
      "39367.9486489362 {'max_features': 2, 'n_estimators': 30}\n",
      "44926.59467323876 {'max_features': 4, 'n_estimators': 3}\n",
      "40481.69063141038 {'max_features': 4, 'n_estimators': 10}\n",
      "37742.69981772612 {'max_features': 4, 'n_estimators': 30}\n",
      "44730.986459868145 {'max_features': 6, 'n_estimators': 3}\n",
      "37738.9098305461 {'max_features': 6, 'n_estimators': 10}\n",
      "36236.10270710689 {'max_features': 6, 'n_estimators': 30}\n",
      "42742.658589605 {'max_features': 8, 'n_estimators': 3}\n",
      "37228.55996211899 {'max_features': 8, 'n_estimators': 10}\n",
      "34071.92613707995 {'max_features': 8, 'n_estimators': 30}\n",
      "48122.03228169317 {'bootstrap': False, 'max_features': 2, 'n_estimators': 3}\n",
      "39558.13719658986 {'bootstrap': False, 'max_features': 2, 'n_estimators': 10}\n",
      "46544.79609375395 {'bootstrap': False, 'max_features': 3, 'n_estimators': 3}\n",
      "36569.64508626609 {'bootstrap': False, 'max_features': 3, 'n_estimators': 10}\n",
      "41872.548578804264 {'bootstrap': False, 'max_features': 4, 'n_estimators': 3}\n",
      "38918.480909044454 {'bootstrap': False, 'max_features': 4, 'n_estimators': 10}\n"
     ]
    }
   ],
   "source": [
    "cvres = grid_search.cv_results_\n",
    "for mean_score, params in zip(cvres['mean_test_score'], cvres['params']):\n",
    "    print(np.sqrt(-mean_score), params)"
   ]
  },
  {
   "cell_type": "code",
   "execution_count": 26,
   "id": "dc794d7f",
   "metadata": {
    "execution": {
     "iopub.execute_input": "2022-04-04T04:49:39.156189Z",
     "iopub.status.busy": "2022-04-04T04:49:39.155567Z",
     "iopub.status.idle": "2022-04-04T04:49:39.167811Z",
     "shell.execute_reply": "2022-04-04T04:49:39.168370Z",
     "shell.execute_reply.started": "2022-04-04T04:47:03.658946Z"
    },
    "papermill": {
     "duration": 0.046141,
     "end_time": "2022-04-04T04:49:39.168538",
     "exception": false,
     "start_time": "2022-04-04T04:49:39.122397",
     "status": "completed"
    },
    "tags": []
   },
   "outputs": [
    {
     "data": {
      "text/plain": [
       "array([7.64810852e-03, 4.93747131e-03, 2.40794253e-02, 2.30377481e-02,\n",
       "       3.60866339e-02, 6.36399040e-03, 2.66990832e-02, 1.72313850e-02,\n",
       "       2.30160390e-02, 2.59546064e-02, 1.43114056e-03, 1.07324265e-02,\n",
       "       4.24617716e-02, 2.58693544e-02, 2.91433070e-04, 5.72071973e-02,\n",
       "       7.36038499e-03, 3.50424981e-04, 2.59580538e-02, 3.03980344e-03,\n",
       "       8.10919842e-03, 7.12843049e-04, 3.00773930e-02, 1.44078779e-02,\n",
       "       1.14040890e-02, 1.52332990e-02, 1.79949442e-03, 3.66025538e-04,\n",
       "       1.90790061e-03, 2.29356270e-03, 4.55083717e-04, 6.96102541e-03,\n",
       "       3.97106053e-03, 2.43904326e-04, 9.36095875e-04, 4.13090851e-05,\n",
       "       1.91123267e-03, 4.74121056e-03, 9.31219689e-05, 4.40146986e-05,\n",
       "       6.76163146e-04, 2.95185089e-04, 5.86174573e-04, 4.09057951e-03,\n",
       "       6.76773068e-04, 3.49152914e-04, 2.28793373e-03, 6.44959702e-04,\n",
       "       8.22059336e-04, 7.16859126e-04, 1.92993242e-03, 3.48753827e-06,\n",
       "       1.18408006e-06, 1.26744799e-03, 3.03464561e-03, 2.91276429e-04,\n",
       "       2.04851493e-05, 2.44679298e-03, 1.19901893e-03, 6.36916252e-04,\n",
       "       1.23324928e-04, 3.09082216e-04, 8.38470951e-06, 1.58983268e-04,\n",
       "       1.54612581e-04, 9.42418925e-04, 1.19248183e-03, 1.37846606e-03,\n",
       "       2.92894123e-03, 7.66267297e-04, 1.61815833e-03, 8.79851630e-04,\n",
       "       1.76915086e-04, 2.16995855e-03, 3.33335245e-05, 5.35536610e-04,\n",
       "       4.42681141e-03, 9.22194929e-03, 4.33962453e-04, 8.99371932e-05,\n",
       "       4.82401540e-04, 6.57383133e-04, 1.66611104e-03, 1.47737108e-03,\n",
       "       8.78514803e-04, 1.59737309e-04, 4.89731494e-04, 6.10374453e-04,\n",
       "       1.35734565e-03, 2.40860426e-04, 2.95105771e-04, 8.35054608e-05,\n",
       "       3.09650499e-04, 1.61547136e-05, 6.07306412e-05, 2.19585719e-05,\n",
       "       2.54357619e-04, 1.75235173e-04, 2.93812178e-05, 2.95182533e-06,\n",
       "       1.53139205e-07, 3.08122569e-05, 1.68909162e-05, 2.89471428e-03,\n",
       "       1.92325489e-04, 3.25439172e-04, 5.24155042e-04, 6.31386647e-04,\n",
       "       7.31735038e-04, 2.57319411e-05, 3.24674995e-03, 1.25074377e-03,\n",
       "       5.08238970e-05, 2.15540707e-03, 4.97088740e-04, 6.60366311e-04,\n",
       "       1.24276182e-04, 3.05271603e-03, 1.53872660e-04, 5.72321506e-03,\n",
       "       3.81682327e-05, 1.73288452e-05, 1.67715747e-06, 1.66121728e-03,\n",
       "       0.00000000e+00, 0.00000000e+00, 9.99064892e-07, 7.43848606e-05,\n",
       "       1.92156649e-04, 2.41938535e-03, 1.06159659e-04, 1.31911652e-06,\n",
       "       1.23729645e-04, 1.56726948e-03, 0.00000000e+00, 2.49647895e-03,\n",
       "       1.03575415e-03, 0.00000000e+00, 1.42676664e-03, 8.74718423e-04,\n",
       "       3.97661354e-05, 4.11206524e-04, 6.25117735e-03, 1.11783282e-03,\n",
       "       6.36770910e-04, 1.83115302e-04, 6.38482918e-06, 8.06076565e-05,\n",
       "       1.03965325e-03, 0.00000000e+00, 1.55564620e-03, 1.77300670e-03,\n",
       "       1.56007554e-03, 7.65863985e-04, 0.00000000e+00, 7.23111567e-04,\n",
       "       2.32600940e-04, 5.23232871e-04, 2.85820651e-03, 5.31444330e-04,\n",
       "       3.79992864e-04, 8.43676273e-05, 1.58093552e-03, 5.74507281e-03,\n",
       "       5.30584894e-03, 6.29492305e-05, 4.55825702e-03, 2.87891008e-04,\n",
       "       6.88710534e-03, 3.97295918e-02, 6.50582825e-04, 1.82477063e-04,\n",
       "       9.50426863e-04, 6.63488884e-06, 1.23151773e-03, 2.78113628e-03,\n",
       "       4.50645311e-03, 2.01841089e-02, 8.97883180e-05, 4.47840608e-05,\n",
       "       6.48284440e-07, 4.54283373e-02, 1.44948100e-03, 7.58326154e-03,\n",
       "       3.43563520e-02, 3.66252812e-04, 6.35321942e-04, 1.13769780e-03,\n",
       "       6.57490014e-05, 1.75153108e-03, 1.12299213e-03, 1.88748801e-03,\n",
       "       6.87984895e-03, 9.98196144e-04, 6.57726768e-03, 6.72101399e-04,\n",
       "       1.04151511e-03, 3.67478876e-04, 2.08901282e-02, 3.62991469e-04,\n",
       "       1.60449159e-03, 1.38123365e-03, 7.51011609e-04, 5.21802911e-04,\n",
       "       3.36272525e-04, 4.33670799e-05, 2.55263396e-04, 3.62395736e-04,\n",
       "       1.80736153e-03, 1.34299098e-03, 0.00000000e+00, 3.47210668e-04,\n",
       "       3.58772327e-04, 3.64403618e-04, 1.96938474e-06, 3.14492874e-06,\n",
       "       1.54759840e-02, 1.91869201e-04, 1.93291506e-03, 1.23353019e-07,\n",
       "       8.38761174e-03, 2.91489083e-03, 1.99613345e-03, 1.45532212e-03,\n",
       "       1.79308567e-04, 5.97667551e-06, 0.00000000e+00, 4.08683128e-03,\n",
       "       2.47178347e-05, 9.70672447e-03, 3.22860023e-04, 6.85442495e-03,\n",
       "       7.09663933e-03, 5.09237735e-04, 1.30340634e-04, 1.55896679e-04,\n",
       "       2.81829958e-04, 7.55467907e-04, 0.00000000e+00, 9.82157620e-04,\n",
       "       4.30899855e-03, 2.15186673e-04, 5.66599878e-03, 3.19799416e-04,\n",
       "       2.43677321e-03, 1.61478382e-02, 3.71441074e-05, 4.32415231e-03,\n",
       "       3.92878779e-04, 2.32310972e-03, 6.47625370e-05, 1.04472636e-02,\n",
       "       1.67798108e-03, 3.70143045e-03, 2.96702933e-03, 9.67256701e-03,\n",
       "       4.41130140e-03, 2.69356641e-04, 3.45633626e-04, 2.40348276e-04,\n",
       "       4.01363120e-07, 2.19415355e-03, 2.60955704e-03, 2.67407148e-06,\n",
       "       2.18304132e-04, 1.93407131e-04, 6.72310849e-05, 1.47542473e-03,\n",
       "       3.55408796e-03, 1.35705016e-03, 2.17169992e-04, 9.29017884e-04,\n",
       "       1.72186201e-03, 1.08192015e-04, 1.81807374e-04, 7.03782926e-04,\n",
       "       8.33716893e-04, 3.30661056e-04, 1.24859996e-03, 1.47144701e-05,\n",
       "       9.68562428e-04, 9.62194833e-07, 1.63535135e-05, 1.79522269e-04,\n",
       "       7.18290458e-06, 2.49960633e-04, 2.27919524e-04, 1.91555204e-04,\n",
       "       1.08171317e-04, 1.00211717e-04, 6.31194099e-05, 1.88953698e-05,\n",
       "       7.28447142e-03, 9.43677855e-07, 3.83587427e-03, 1.88819910e-03,\n",
       "       7.74396979e-06, 1.96364975e-04, 3.26270262e-04, 2.23842960e-03,\n",
       "       3.52708679e-03])"
      ]
     },
     "execution_count": 26,
     "metadata": {},
     "output_type": "execute_result"
    }
   ],
   "source": [
    "feature_importances = grid_search.best_estimator_.feature_importances_\n",
    "feature_importances"
   ]
  },
  {
   "cell_type": "code",
   "execution_count": 27,
   "id": "01b56153",
   "metadata": {
    "execution": {
     "iopub.execute_input": "2022-04-04T04:49:39.236066Z",
     "iopub.status.busy": "2022-04-04T04:49:39.235415Z",
     "iopub.status.idle": "2022-04-04T04:49:39.242829Z",
     "shell.execute_reply": "2022-04-04T04:49:39.243378Z",
     "shell.execute_reply.started": "2022-04-04T04:47:03.676407Z"
    },
    "papermill": {
     "duration": 0.042965,
     "end_time": "2022-04-04T04:49:39.243551",
     "exception": false,
     "start_time": "2022-04-04T04:49:39.200586",
     "status": "completed"
    },
    "tags": []
   },
   "outputs": [
    {
     "data": {
      "text/plain": [
       "[(0.05720719730686292, 'GrLivArea'),\n",
       " (0.04246177155967001, 'TotalBsmtSF'),\n",
       " (0.03608663386496283, 'OverallQual'),\n",
       " (0.0300773930052748, 'Fireplaces'),\n",
       " (0.026699083219056504, 'YearBuilt'),\n",
       " (0.025958053822974746, 'FullBath'),\n",
       " (0.025954606389930624, 'BsmtFinSF1'),\n",
       " (0.02586935437390636, '2ndFlrSF'),\n",
       " (0.024079425277484263, 'LotFrontage'),\n",
       " (0.023037748110662584, 'LotArea'),\n",
       " (0.023016038994599856, 'MasVnrArea'),\n",
       " (0.017231385026205102, 'YearRemodAdd'),\n",
       " (0.015233298995386878, 'OpenPorchSF'),\n",
       " (0.014407877855505383, 'GarageCars'),\n",
       " (0.011404088993545036, 'WoodDeckSF'),\n",
       " (0.01073242647989959, 'BsmtUnfSF'),\n",
       " (0.008109198415812553, 'BedroomAbvGr'),\n",
       " (0.007648108520665905, 'Id'),\n",
       " (0.007360384992726249, 'BsmtFullBath'),\n",
       " (0.006961025412434693, 'MoSold'),\n",
       " (0.006363990399996471, 'OverallCond'),\n",
       " (0.004937471313114847, 'MSSubClass'),\n",
       " (0.004741210561665671, 'RM'),\n",
       " (0.0039710605326254, 'YrSold'),\n",
       " (0.0030398034411270388, 'HalfBath'),\n",
       " (0.0022935626956226843, 'PoolArea'),\n",
       " (0.0019112326658729426, 'RL'),\n",
       " (0.0019079006101225468, 'ScreenPorch'),\n",
       " (0.001799494415018197, 'EnclosedPorch'),\n",
       " (0.00143114056454199, 'BsmtFinSF2'),\n",
       " (0.0009360958749471665, 'FV'),\n",
       " (0.0007128430486321902, 'KitchenAbvGr'),\n",
       " (0.0004550837173655038, 'MiscVal'),\n",
       " (0.0003660255384365041, '3SsnPorch'),\n",
       " (0.0003504249812129182, 'BsmtHalfBath'),\n",
       " (0.00029143307019261974, 'LowQualFinSF'),\n",
       " (0.00024390432566645133, 'C (all)'),\n",
       " (4.130908511713059e-05, 'RH')]"
      ]
     },
     "execution_count": 27,
     "metadata": {},
     "output_type": "execute_result"
    }
   ],
   "source": [
    "cat_encoder = full_pipeline.named_transformers_['cat']\n",
    "cat_one_hot_attribs = list(cat_encoder.categories_[0])\n",
    "attributes = num_attribs + cat_one_hot_attribs\n",
    "sorted(zip(feature_importances, attributes), reverse=True)\n",
    "# maybe drop less useful features"
   ]
  },
  {
   "cell_type": "code",
   "execution_count": 28,
   "id": "8fd00f9f",
   "metadata": {
    "execution": {
     "iopub.execute_input": "2022-04-04T04:49:39.310950Z",
     "iopub.status.busy": "2022-04-04T04:49:39.310286Z",
     "iopub.status.idle": "2022-04-04T04:49:39.314261Z",
     "shell.execute_reply": "2022-04-04T04:49:39.314801Z",
     "shell.execute_reply.started": "2022-04-04T04:47:03.685249Z"
    },
    "papermill": {
     "duration": 0.038975,
     "end_time": "2022-04-04T04:49:39.314982",
     "exception": false,
     "start_time": "2022-04-04T04:49:39.276007",
     "status": "completed"
    },
    "tags": []
   },
   "outputs": [],
   "source": [
    "final_model = grid_search.best_estimator_\n",
    "X_test= test_set.copy()"
   ]
  },
  {
   "cell_type": "code",
   "execution_count": 29,
   "id": "9aff2d4d",
   "metadata": {
    "execution": {
     "iopub.execute_input": "2022-04-04T04:49:39.385977Z",
     "iopub.status.busy": "2022-04-04T04:49:39.385339Z",
     "iopub.status.idle": "2022-04-04T04:49:39.404114Z",
     "shell.execute_reply": "2022-04-04T04:49:39.404556Z",
     "shell.execute_reply.started": "2022-04-04T04:47:03.698298Z"
    },
    "papermill": {
     "duration": 0.05484,
     "end_time": "2022-04-04T04:49:39.404735",
     "exception": false,
     "start_time": "2022-04-04T04:49:39.349895",
     "status": "completed"
    },
    "tags": []
   },
   "outputs": [
    {
     "name": "stdout",
     "output_type": "stream",
     "text": [
      "<class 'pandas.core.frame.DataFrame'>\n",
      "RangeIndex: 1459 entries, 0 to 1458\n",
      "Data columns (total 76 columns):\n",
      " #   Column         Non-Null Count  Dtype  \n",
      "---  ------         --------------  -----  \n",
      " 0   Id             1459 non-null   int64  \n",
      " 1   MSSubClass     1459 non-null   int64  \n",
      " 2   MSZoning       1455 non-null   object \n",
      " 3   LotFrontage    1232 non-null   float64\n",
      " 4   LotArea        1459 non-null   int64  \n",
      " 5   Street         1459 non-null   object \n",
      " 6   Alley          107 non-null    object \n",
      " 7   LotShape       1459 non-null   object \n",
      " 8   LandContour    1459 non-null   object \n",
      " 9   Utilities      1457 non-null   object \n",
      " 10  LotConfig      1459 non-null   object \n",
      " 11  LandSlope      1459 non-null   object \n",
      " 12  Neighborhood   1459 non-null   object \n",
      " 13  Condition1     1459 non-null   object \n",
      " 14  Condition2     1459 non-null   object \n",
      " 15  BldgType       1459 non-null   object \n",
      " 16  HouseStyle     1459 non-null   object \n",
      " 17  OverallQual    1459 non-null   int64  \n",
      " 18  OverallCond    1459 non-null   int64  \n",
      " 19  YearBuilt      1459 non-null   int64  \n",
      " 20  YearRemodAdd   1459 non-null   int64  \n",
      " 21  RoofStyle      1459 non-null   object \n",
      " 22  RoofMatl       1459 non-null   object \n",
      " 23  Exterior1st    1458 non-null   object \n",
      " 24  Exterior2nd    1458 non-null   object \n",
      " 25  MasVnrType     1443 non-null   object \n",
      " 26  MasVnrArea     1444 non-null   float64\n",
      " 27  ExterQual      1459 non-null   object \n",
      " 28  ExterCond      1459 non-null   object \n",
      " 29  Foundation     1459 non-null   object \n",
      " 30  BsmtQual       1415 non-null   object \n",
      " 31  BsmtCond       1414 non-null   object \n",
      " 32  BsmtExposure   1415 non-null   object \n",
      " 33  BsmtFinType1   1417 non-null   object \n",
      " 34  BsmtFinSF1     1458 non-null   float64\n",
      " 35  BsmtFinType2   1417 non-null   object \n",
      " 36  BsmtFinSF2     1458 non-null   float64\n",
      " 37  BsmtUnfSF      1458 non-null   float64\n",
      " 38  TotalBsmtSF    1458 non-null   float64\n",
      " 39  Heating        1459 non-null   object \n",
      " 40  HeatingQC      1459 non-null   object \n",
      " 41  CentralAir     1459 non-null   object \n",
      " 42  Electrical     1459 non-null   object \n",
      " 43  2ndFlrSF       1459 non-null   int64  \n",
      " 44  LowQualFinSF   1459 non-null   int64  \n",
      " 45  GrLivArea      1459 non-null   int64  \n",
      " 46  BsmtFullBath   1457 non-null   float64\n",
      " 47  BsmtHalfBath   1457 non-null   float64\n",
      " 48  FullBath       1459 non-null   int64  \n",
      " 49  HalfBath       1459 non-null   int64  \n",
      " 50  BedroomAbvGr   1459 non-null   int64  \n",
      " 51  KitchenAbvGr   1459 non-null   int64  \n",
      " 52  KitchenQual    1458 non-null   object \n",
      " 53  Functional     1457 non-null   object \n",
      " 54  Fireplaces     1459 non-null   int64  \n",
      " 55  FireplaceQu    729 non-null    object \n",
      " 56  GarageType     1383 non-null   object \n",
      " 57  GarageFinish   1381 non-null   object \n",
      " 58  GarageCars     1458 non-null   float64\n",
      " 59  GarageQual     1381 non-null   object \n",
      " 60  GarageCond     1381 non-null   object \n",
      " 61  PavedDrive     1459 non-null   object \n",
      " 62  WoodDeckSF     1459 non-null   int64  \n",
      " 63  OpenPorchSF    1459 non-null   int64  \n",
      " 64  EnclosedPorch  1459 non-null   int64  \n",
      " 65  3SsnPorch      1459 non-null   int64  \n",
      " 66  ScreenPorch    1459 non-null   int64  \n",
      " 67  PoolArea       1459 non-null   int64  \n",
      " 68  PoolQC         3 non-null      object \n",
      " 69  Fence          290 non-null    object \n",
      " 70  MiscFeature    51 non-null     object \n",
      " 71  MiscVal        1459 non-null   int64  \n",
      " 72  MoSold         1459 non-null   int64  \n",
      " 73  YrSold         1459 non-null   int64  \n",
      " 74  SaleType       1458 non-null   object \n",
      " 75  SaleCondition  1459 non-null   object \n",
      "dtypes: float64(9), int64(24), object(43)\n",
      "memory usage: 866.4+ KB\n"
     ]
    }
   ],
   "source": [
    "X_test.info()"
   ]
  },
  {
   "cell_type": "code",
   "execution_count": 30,
   "id": "8ad01e23",
   "metadata": {
    "execution": {
     "iopub.execute_input": "2022-04-04T04:49:39.473285Z",
     "iopub.status.busy": "2022-04-04T04:49:39.472594Z",
     "iopub.status.idle": "2022-04-04T04:49:39.530529Z",
     "shell.execute_reply": "2022-04-04T04:49:39.529855Z",
     "shell.execute_reply.started": "2022-04-04T04:47:03.725622Z"
    },
    "papermill": {
     "duration": 0.093726,
     "end_time": "2022-04-04T04:49:39.530674",
     "exception": false,
     "start_time": "2022-04-04T04:49:39.436948",
     "status": "completed"
    },
    "tags": []
   },
   "outputs": [
    {
     "data": {
      "text/plain": [
       "array([131078.33333333, 161541.66666667, 193456.06666667, ...,\n",
       "       153190.        , 118825.2       , 211983.33333333])"
      ]
     },
     "execution_count": 30,
     "metadata": {},
     "output_type": "execute_result"
    }
   ],
   "source": [
    "\n",
    "\n",
    "X_test_prepared = full_pipeline.transform(X_test)\n",
    "final_predictions = final_model.predict(X_test_prepared)\n",
    "final_predictions"
   ]
  },
  {
   "cell_type": "code",
   "execution_count": 31,
   "id": "29409803",
   "metadata": {
    "execution": {
     "iopub.execute_input": "2022-04-04T04:49:39.603926Z",
     "iopub.status.busy": "2022-04-04T04:49:39.603244Z",
     "iopub.status.idle": "2022-04-04T04:49:39.614398Z",
     "shell.execute_reply": "2022-04-04T04:49:39.613830Z",
     "shell.execute_reply.started": "2022-04-04T04:47:03.786170Z"
    },
    "papermill": {
     "duration": 0.049057,
     "end_time": "2022-04-04T04:49:39.614548",
     "exception": false,
     "start_time": "2022-04-04T04:49:39.565491",
     "status": "completed"
    },
    "tags": []
   },
   "outputs": [
    {
     "data": {
      "text/html": [
       "<div>\n",
       "<style scoped>\n",
       "    .dataframe tbody tr th:only-of-type {\n",
       "        vertical-align: middle;\n",
       "    }\n",
       "\n",
       "    .dataframe tbody tr th {\n",
       "        vertical-align: top;\n",
       "    }\n",
       "\n",
       "    .dataframe thead th {\n",
       "        text-align: right;\n",
       "    }\n",
       "</style>\n",
       "<table border=\"1\" class=\"dataframe\">\n",
       "  <thead>\n",
       "    <tr style=\"text-align: right;\">\n",
       "      <th></th>\n",
       "      <th>Id</th>\n",
       "      <th>SalePrice</th>\n",
       "    </tr>\n",
       "  </thead>\n",
       "  <tbody>\n",
       "    <tr>\n",
       "      <th>0</th>\n",
       "      <td>1461</td>\n",
       "      <td>131078.333333</td>\n",
       "    </tr>\n",
       "    <tr>\n",
       "      <th>1</th>\n",
       "      <td>1462</td>\n",
       "      <td>161541.666667</td>\n",
       "    </tr>\n",
       "    <tr>\n",
       "      <th>2</th>\n",
       "      <td>1463</td>\n",
       "      <td>193456.066667</td>\n",
       "    </tr>\n",
       "    <tr>\n",
       "      <th>3</th>\n",
       "      <td>1464</td>\n",
       "      <td>203051.666667</td>\n",
       "    </tr>\n",
       "    <tr>\n",
       "      <th>4</th>\n",
       "      <td>1465</td>\n",
       "      <td>180221.666667</td>\n",
       "    </tr>\n",
       "    <tr>\n",
       "      <th>...</th>\n",
       "      <td>...</td>\n",
       "      <td>...</td>\n",
       "    </tr>\n",
       "    <tr>\n",
       "      <th>1454</th>\n",
       "      <td>2915</td>\n",
       "      <td>95490.000000</td>\n",
       "    </tr>\n",
       "    <tr>\n",
       "      <th>1455</th>\n",
       "      <td>2916</td>\n",
       "      <td>103930.000000</td>\n",
       "    </tr>\n",
       "    <tr>\n",
       "      <th>1456</th>\n",
       "      <td>2917</td>\n",
       "      <td>153190.000000</td>\n",
       "    </tr>\n",
       "    <tr>\n",
       "      <th>1457</th>\n",
       "      <td>2918</td>\n",
       "      <td>118825.200000</td>\n",
       "    </tr>\n",
       "    <tr>\n",
       "      <th>1458</th>\n",
       "      <td>2919</td>\n",
       "      <td>211983.333333</td>\n",
       "    </tr>\n",
       "  </tbody>\n",
       "</table>\n",
       "<p>1459 rows × 2 columns</p>\n",
       "</div>"
      ],
      "text/plain": [
       "        Id      SalePrice\n",
       "0     1461  131078.333333\n",
       "1     1462  161541.666667\n",
       "2     1463  193456.066667\n",
       "3     1464  203051.666667\n",
       "4     1465  180221.666667\n",
       "...    ...            ...\n",
       "1454  2915   95490.000000\n",
       "1455  2916  103930.000000\n",
       "1456  2917  153190.000000\n",
       "1457  2918  118825.200000\n",
       "1458  2919  211983.333333\n",
       "\n",
       "[1459 rows x 2 columns]"
      ]
     },
     "execution_count": 31,
     "metadata": {},
     "output_type": "execute_result"
    }
   ],
   "source": [
    "test_ID = test_set['Id']\n",
    "sub = pd.DataFrame({'Id':test_ID, 'SalePrice':final_predictions})\n",
    "sub"
   ]
  },
  {
   "cell_type": "code",
   "execution_count": 32,
   "id": "520a30e4",
   "metadata": {
    "execution": {
     "iopub.execute_input": "2022-04-04T04:49:39.684101Z",
     "iopub.status.busy": "2022-04-04T04:49:39.683456Z",
     "iopub.status.idle": "2022-04-04T04:49:39.693616Z",
     "shell.execute_reply": "2022-04-04T04:49:39.694122Z",
     "shell.execute_reply.started": "2022-04-04T04:47:03.801563Z"
    },
    "papermill": {
     "duration": 0.046222,
     "end_time": "2022-04-04T04:49:39.694294",
     "exception": false,
     "start_time": "2022-04-04T04:49:39.648072",
     "status": "completed"
    },
    "tags": []
   },
   "outputs": [],
   "source": [
    "sub.to_csv('submission.csv', index=False)"
   ]
  }
 ],
 "metadata": {
  "kernelspec": {
   "display_name": "Python 3",
   "language": "python",
   "name": "python3"
  },
  "language_info": {
   "codemirror_mode": {
    "name": "ipython",
    "version": 3
   },
   "file_extension": ".py",
   "mimetype": "text/x-python",
   "name": "python",
   "nbconvert_exporter": "python",
   "pygments_lexer": "ipython3",
   "version": "3.7.12"
  },
  "papermill": {
   "default_parameters": {},
   "duration": 56.540303,
   "end_time": "2022-04-04T04:49:40.438691",
   "environment_variables": {},
   "exception": null,
   "input_path": "__notebook__.ipynb",
   "output_path": "__notebook__.ipynb",
   "parameters": {},
   "start_time": "2022-04-04T04:48:43.898388",
   "version": "2.3.3"
  }
 },
 "nbformat": 4,
 "nbformat_minor": 5
}
